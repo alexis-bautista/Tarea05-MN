{
 "cells": [
  {
   "cell_type": "markdown",
   "metadata": {},
   "source": [
    "# Tarea 5 - Método de Newton y Método de la Secante  \n",
    "**Nombre:** Alexis Bautista  \n",
    "**Fecha de entrega:** 27 de noviembre de 2024  \n",
    "**Paralelo:** GR1CC  \n",
    "**Enlace de GitHub:** https://github.com/alexis-bautista/Tarea05-MN.git"
   ]
  },
  {
   "cell_type": "markdown",
   "metadata": {},
   "source": [
    "1. Sea $f(x) = −𝑥^3 − cos𝑥$ y $𝑝_0 = −1$. Use el método de Newton y de la Secante para encontrar $𝑝_2$. ¿Se podría \n",
    "usar $𝑝_0 = 0$?  \n",
    "Ejercicio adjunto en el pdf del repositorio"
   ]
  },
  {
   "cell_type": "markdown",
   "metadata": {},
   "source": [
    "2. Encuentre soluciones precisas dentro de 10−4 para los siguientes problemas.  \n",
    "a. $x^3-2x^2-5=0, [1,4]$  \n",
    "b. $x^3-3x^2-1=0, [-3,-1]$  \n",
    "c. $x-\\cos{x}=0, [0, \\pi/2]$  \n",
    "d. $x-0.8-0.2\\sin{x}=0, [0, \\pi/2]$  \n",
    "Ejercicios adjuntos en el pdf del repositorio."
   ]
  },
  {
   "cell_type": "markdown",
   "metadata": {},
   "source": [
    "3. Use los 2 métodos en esta sección para encontrar las soluciones dentro de $10^{−5}$ para los siguientes problemas.  "
   ]
  },
  {
   "cell_type": "markdown",
   "metadata": {
    "vscode": {
     "languageId": "plaintext"
    }
   },
   "source": [
    "a. $3x-e^x=0$ para $1\\leq{x}\\leq{2}$"
   ]
  },
  {
   "cell_type": "markdown",
   "metadata": {
    "vscode": {
     "languageId": "plaintext"
    }
   },
   "source": [
    "Sabemos que:\n",
    "\n",
    "Formula de Newton: $x_{n+1}=x_n-\\frac{f(x_n)}{f'(x_n)}$  \n",
    "Formula de la Secante: $x_{n+1}=x_n​−f(x_n​)⋅\\frac{x_n-x_{n-1}}{f(x_n​)−f(x_{n−1}​)}$\n",
    "\n",
    "Funcion: $f(x)=3x-e^x$  \n",
    "Derivada: $f'=3-e^x$\n",
    "\n",
    "**Para el método de Newton**"
   ]
  },
  {
   "cell_type": "code",
   "execution_count": 1,
   "metadata": {},
   "outputs": [],
   "source": [
    "import math\n",
    "\n",
    "def f(x):\n",
    "    return 3*x - math.exp(x)\n",
    "\n",
    "def f_prima(x):\n",
    "    return 3 - math.exp(x)"
   ]
  },
  {
   "cell_type": "code",
   "execution_count": 2,
   "metadata": {},
   "outputs": [
    {
     "name": "stdout",
     "output_type": "stream",
     "text": [
      "La solución precisa dentro de 1e-05 es: 1.512134625427124 en 2 iteraciones\n",
      "f(1.512134625427124) = -1.1333940630464667e-07\n"
     ]
    }
   ],
   "source": [
    "def metodo_newton(f, f_prime, x0, tol=1e-5, max_iter=100):\n",
    "    xn = x0\n",
    "    for n in range(max_iter):\n",
    "        fxn = f(xn)\n",
    "        if abs(fxn) < tol:\n",
    "            return xn, n\n",
    "        dfxn = f_prime(xn)\n",
    "        if dfxn == 0:\n",
    "            raise ValueError('Derivada es cero. No se puede dividir por cero por lo tanto no se puede aplicar el metodo de Newton')\n",
    "        xn = xn - fxn / dfxn\n",
    "    return None\n",
    "\n",
    "#tomamos como valor incial el punto medio del intervalo\n",
    "x0 = 1.5\n",
    "solucion, iteraciones = metodo_newton(f, f_prima, x0)\n",
    "print(f'La solución precisa dentro de {1e-5} es: {solucion} en {iteraciones} iteraciones')\n",
    "print(f'f({solucion}) = {f(solucion)}')"
   ]
  },
  {
   "cell_type": "markdown",
   "metadata": {},
   "source": [
    "**Para el metodo de la secante**"
   ]
  },
  {
   "cell_type": "code",
   "execution_count": 3,
   "metadata": {},
   "outputs": [
    {
     "name": "stdout",
     "output_type": "stream",
     "text": [
      "La solución precisa dentro de 1e-05 es: 1.5121339760022816 en 8 iteraciones\n",
      "f(1.5121339760022816) = 8.844385552819745e-07\n"
     ]
    }
   ],
   "source": [
    "def metodo_secante(f, x0, x1, tol=1e-5, max_iter=100):\n",
    "    for n in range(max_iter):\n",
    "        fx0 = f(x0)\n",
    "        fx1 = f(x1)\n",
    "        if abs(fx1) < tol:\n",
    "            return x1, n\n",
    "        if fx1 == fx0:\n",
    "            raise ValueError('f(x0) y f(x1) son iguales. No se puede dividir por cero por lo tanto no se puede aplicar el metodo de la secante')\n",
    "        x2 = x1 - fx1 * (x1 - x0) / (fx1 - fx0)\n",
    "        x0, x1 = x1, x2\n",
    "    return None\n",
    "\n",
    "# Valores iniciales, usamos los extremos del intervalo\n",
    "x0_secante = 1\n",
    "x1_secante = 2\n",
    "\n",
    "solucion, iteraciones = metodo_secante(f, x0_secante, x1_secante)\n",
    "print(f'La solución precisa dentro de {1e-5} es: {solucion} en {iteraciones} iteraciones')\n",
    "print(f'f({solucion}) = {f(solucion)}')"
   ]
  },
  {
   "cell_type": "markdown",
   "metadata": {},
   "source": [
    "b. $2x+3\\cos{x}-e^x=0$ para $1\\leq{x}\\leq{2}$"
   ]
  },
  {
   "cell_type": "markdown",
   "metadata": {},
   "source": [
    "Sabemos que:\n",
    "\n",
    "Formula de Newton: $x_{n+1}=x_n-\\frac{f(x_n)}{f'(x_n)}$  \n",
    "Formula de la Secante: $x_{n+1}=x_n​−f(x_n​)⋅\\frac{x_n-x_{n-1}}{f(x_n​)−f(x_{n−1}​)}$\n",
    "\n",
    "Funcion: $f(x)=2x+3\\cos{x}-e^x$  \n",
    "Derivada: $f'=2-3senx-e^x$\n",
    "\n",
    "**Para el metodo de Newton**"
   ]
  },
  {
   "cell_type": "code",
   "execution_count": 4,
   "metadata": {},
   "outputs": [
    {
     "name": "stdout",
     "output_type": "stream",
     "text": [
      "La solución precisa dentro de 1e-05 es: 2.006014409413486 en 16 iteraciones\n",
      "f(2.006014409413486) = 6.164336486591537e-06\n"
     ]
    }
   ],
   "source": [
    "def f(x):\n",
    "    return 2*x + 3 - math.cos(x) - math.exp(x)\n",
    "\n",
    "def f_prima(x):\n",
    "    return 2 - 3*math.sin(x) - math.exp(x)\n",
    "\n",
    "#tomamos como valor incial el punto medio del intervalo\n",
    "x0 = 1.5\n",
    "solucion, iteraciones = metodo_newton(f, f_prima, x0)\n",
    "print(f'La solución precisa dentro de {1e-5} es: {solucion} en {iteraciones} iteraciones')\n",
    "print(f'f({solucion}) = {f(solucion)}')"
   ]
  },
  {
   "cell_type": "markdown",
   "metadata": {},
   "source": [
    "**Para el metodo de la secante**"
   ]
  },
  {
   "cell_type": "code",
   "execution_count": 5,
   "metadata": {},
   "outputs": [
    {
     "name": "stdout",
     "output_type": "stream",
     "text": [
      "La solución precisa dentro de 1e-05 es: 2.0060153403917713 en 3 iteraciones\n",
      "f(2.0060153403917713) = 1.949931518474557e-06\n"
     ]
    }
   ],
   "source": [
    "# Valores iniciales, usamos los extremos del intervalo\n",
    "x0_secante = 1\n",
    "x1_secante = 2\n",
    "\n",
    "solucion, iteraciones = metodo_secante(f, x0_secante, x1_secante)\n",
    "print(f'La solución precisa dentro de {1e-5} es: {solucion} en {iteraciones} iteraciones')\n",
    "print(f'f({solucion}) = {f(solucion)}')"
   ]
  },
  {
   "cell_type": "markdown",
   "metadata": {},
   "source": [
    "4. El polinomio de cuarto grado\n",
    "\n",
    "$f(x)=230x^4+18x^3+9x^2-2221x-9$\n",
    "\n",
    "tiene dos ceros reales, uno en $[−1,0]$ y el otro en $[0,1]$. Intente aproximar estos ceros dentro de $10^{−6}$ con:"
   ]
  },
  {
   "cell_type": "code",
   "execution_count": 6,
   "metadata": {},
   "outputs": [],
   "source": [
    "def f(x):\n",
    "    return 230*x**4 + 18*x**3 + 9*x**2 - 221*x - 9\n",
    "\n",
    "def f_prima(x):\n",
    "    return 920*x**3 + 54*x**2 + 18*x - 221"
   ]
  },
  {
   "cell_type": "markdown",
   "metadata": {},
   "source": [
    "a. El método de la secante (use los extremos como las estimaciones iniciales)"
   ]
  },
  {
   "cell_type": "code",
   "execution_count": 7,
   "metadata": {},
   "outputs": [
    {
     "name": "stdout",
     "output_type": "stream",
     "text": [
      "Cero en [-1, 0] con secante: -0.040659288315725135 en 4 iteraciones\n",
      "f(-0.040659288315725135) = -7.478462293875054e-12\n",
      "Cero en [0, 1] con secante: -0.04065928831557162 en 11 iteraciones\n",
      "f(-0.04065928831557162) = -4.1513459336783853e-11\n"
     ]
    }
   ],
   "source": [
    "def metodo_secante(f, x0, x1, tol=1e-6, max_iter=100):\n",
    "    for n in range(max_iter):\n",
    "        fx0 = f(x0)\n",
    "        fx1 = f(x1)\n",
    "        if abs(fx1) < tol:\n",
    "            return x1, n\n",
    "        if fx1 == fx0:\n",
    "            raise ValueError('f(x0) y f(x1) son iguales. No se puede dividir por cero por lo tanto no se puede aplicar el metodo de la secante')\n",
    "        x2 = x1 - fx1 * (x1 - x0) / (fx1 - fx0)\n",
    "        x0, x1 = x1, x2\n",
    "    return None\n",
    "\n",
    "# Valores iniciales, usamos los extremos de los intervalo\n",
    "# Cero en [-1, 0]\n",
    "x0_secante_1 = -1\n",
    "x1_secante_1 = 0\n",
    "sol_1, iters_1 = metodo_secante(f, x0_secante_1, x1_secante_1)\n",
    "print(f'Cero en [-1, 0] con secante: {sol_1} en {iters_1} iteraciones')\n",
    "print(f'f({sol_1}) = {f(sol_1)}')\n",
    "\n",
    "# Cero en [0, 1]\n",
    "x0_secante_2 = 0\n",
    "x1_secante_2 = 1\n",
    "sol_2, iters_2 = metodo_secante(f, x0_secante_2, x1_secante_2)\n",
    "print(f'Cero en [0, 1] con secante: {sol_2} en {iters_2} iteraciones')\n",
    "print(f'f({sol_2}) = {f(sol_2)}')"
   ]
  },
  {
   "cell_type": "markdown",
   "metadata": {},
   "source": [
    "b. El método de Newton (use el punto medio como estimación inicial)"
   ]
  },
  {
   "cell_type": "code",
   "execution_count": 8,
   "metadata": {},
   "outputs": [
    {
     "name": "stdout",
     "output_type": "stream",
     "text": [
      "Cero en [-1, 0] con Newton: -0.04065928831575899 en 4 iteraciones\n",
      "f(-0.04065928831575899) = 2.842170943040401e-14\n",
      "Cero en [0, 1] con Newton: -0.04065928834533494 en 5 iteraciones\n",
      "f(-0.04065928834533494) = 6.557147713692757e-09\n"
     ]
    }
   ],
   "source": [
    "def metodo_newton(f, f_prime, x0, tol=1e-6, max_iter=100):\n",
    "    xn = x0\n",
    "    for n in range(max_iter):\n",
    "        fxn = f(xn)\n",
    "        if abs(fxn) < tol:\n",
    "            return xn, n\n",
    "        dfxn = f_prime(xn)\n",
    "        if dfxn == 0:\n",
    "            raise ValueError('Derivada es cero. No se puede dividir por cero por lo tanto no se puede aplicar el metodo de Newton')\n",
    "        xn = xn - fxn / dfxn\n",
    "    return None\n",
    "\n",
    "#tomamos como valor incial el punto medio del intervalo\n",
    "#cero en [-1, 0]\n",
    "x0 = -0.5\n",
    "solucion, iteraciones = metodo_newton(f, f_prima, x0)\n",
    "print(f'Cero en [-1, 0] con Newton: {solucion} en {iteraciones} iteraciones')\n",
    "print(f'f({solucion}) = {f(solucion)}')\n",
    "\n",
    "# Cero en [0, 1]\n",
    "x0_2 = 0.5\n",
    "solucion_2, iteraciones_2 = metodo_newton(f, f_prima, x0_2)\n",
    "print(f'Cero en [0, 1] con Newton: {solucion_2} en {iteraciones_2} iteraciones')\n",
    "print(f'f({solucion_2}) = {f(solucion_2)}')"
   ]
  },
  {
   "cell_type": "markdown",
   "metadata": {},
   "source": [
    "5. La función $𝑓(𝑥) = tan \\pi 𝑥 − 6$ tiene cero en $(1/\\pi)\\arctan(6) ≈ 0.447431543.$ Sea $𝑝_0 = 0$ y $𝑝_1 = 0.48$ y use 10 iteraciones en cada uno de los siguientes métodos para aproximar esta raíz. ¿Cuál método es más \n",
    "eficaz y por qué?"
   ]
  },
  {
   "cell_type": "code",
   "execution_count": 9,
   "metadata": {},
   "outputs": [],
   "source": [
    "import math\n",
    "\n",
    "def f(x):\n",
    "    return math.tan(math.pi * x) - 6\n",
    "\n",
    "def f_prima(x):\n",
    "    return math.pi / (math.cos(math.pi * x)**2)"
   ]
  },
  {
   "cell_type": "markdown",
   "metadata": {},
   "source": [
    "a. Método de bisección"
   ]
  },
  {
   "cell_type": "code",
   "execution_count": 10,
   "metadata": {},
   "outputs": [
    {
     "name": "stdout",
     "output_type": "stream",
     "text": [
      "Solucion = 0.447656, iteraciones = 10\n",
      "f(0.44765625) = 0.0262307752703812\n"
     ]
    }
   ],
   "source": [
    "def metodo_biseccion(f, a, b, tol=1e-6, max_iter=10):\n",
    "    if f(a) * f(b) > 0:\n",
    "        raise ValueError('f(a) y f(b) deben tener signos opuestos para aplicar el método de bisección.')\n",
    "    for i in range(max_iter):\n",
    "        p = (a + b) / 2\n",
    "        if abs(f(p)) < tol or (b - a) / 2 < tol:\n",
    "            return p, i + 1\n",
    "        if f(a) * f(p) < 0:\n",
    "            b = p\n",
    "        else:\n",
    "            a = p\n",
    "    return p, max_iter\n",
    "\n",
    "# Valores iniciales\n",
    "a, b = 0, 0.48 \n",
    "\n",
    "sol_biseccion, iter_biseccion = metodo_biseccion(f, a, b, max_iter=10)\n",
    "print(f'Solucion = {sol_biseccion:.6f}, iteraciones = {iter_biseccion}')\n",
    "print(f'f({sol_biseccion}) = {f(sol_biseccion)}')"
   ]
  },
  {
   "cell_type": "markdown",
   "metadata": {},
   "source": [
    "b. Método de Newton"
   ]
  },
  {
   "cell_type": "code",
   "execution_count": 11,
   "metadata": {},
   "outputs": [
    {
     "name": "stdout",
     "output_type": "stream",
     "text": [
      "Error: No se alcanzó la convergencia después de 10 iteraciones.\n",
      "solucion mas aproximada a la raiz\n",
      "Solución = 0.447432, iteraciones = 0\n",
      "f(0.447431543) = -3.35635981230098e-08\n"
     ]
    }
   ],
   "source": [
    "def metodo_newton(f, f_prime, x0, tol=1e-6, max_iter=10):\n",
    "    xn = x0\n",
    "    for n in range(max_iter):\n",
    "        fxn = f(xn)\n",
    "        if abs(fxn) < tol:\n",
    "            return xn, n\n",
    "        dfxn = f_prime(xn)\n",
    "        if dfxn == 0:\n",
    "            raise ValueError('Derivada es cero. No se puede dividir por cero por lo tanto no se puede aplicar el metodo de Newton')\n",
    "        xn = xn - fxn / dfxn\n",
    "    raise ValueError(f\"No se alcanzó la convergencia después de {max_iter} iteraciones.\")\n",
    "\n",
    "#Valor inicial\n",
    "x0 = 0\n",
    "try:\n",
    "    solucion, iteraciones = metodo_newton(f, f_prima, x0, max_iter=10)\n",
    "    print(f\"Solución = {solucion:.6f}, iteraciones = {iteraciones}\")\n",
    "    print(f\"f({solucion}) = {f(solucion)}\")\n",
    "except ValueError as e:\n",
    "    print(f\"Error: {e}\")\n",
    "\n",
    "print('solucion mas aproximada a la raiz')\n",
    "x0 = 0.447431543\n",
    "try:\n",
    "    solucion, iteraciones = metodo_newton(f, f_prima, x0, max_iter=10)\n",
    "    print(f\"Solución = {solucion:.6f}, iteraciones = {iteraciones}\")\n",
    "    print(f\"f({solucion}) = {f(solucion)}\")\n",
    "except ValueError as e:\n",
    "    print(f\"Error: {e}\")"
   ]
  },
  {
   "cell_type": "markdown",
   "metadata": {},
   "source": [
    "c. Método de la secante"
   ]
  },
  {
   "cell_type": "code",
   "execution_count": 12,
   "metadata": {},
   "outputs": [
    {
     "name": "stdout",
     "output_type": "stream",
     "text": [
      "Error: No se alcanzó la convergencia después de 10 iteraciones.\n"
     ]
    }
   ],
   "source": [
    "def metodo_secante(f, x0, x1, tol=1e-6, max_iter=100):\n",
    "    for n in range(max_iter):\n",
    "        fx0 = f(x0)\n",
    "        fx1 = f(x1)\n",
    "        if abs(fx1) < tol:\n",
    "            return x1, n\n",
    "        if fx1 == fx0:\n",
    "            raise ValueError('f(x0) y f(x1) son iguales. No se puede dividir por cero por lo tanto no se puede aplicar el metodo de la secante')\n",
    "        x2 = x1 - fx1 * (x1 - x0) / (fx1 - fx0)\n",
    "        x0, x1 = x1, x2\n",
    "    raise ValueError(f\"No se alcanzó la convergencia después de {max_iter} iteraciones.\")\n",
    "\n",
    "# Valores iniciales\n",
    "x0_secante = 0\n",
    "x1_secante = 0.48\n",
    "try: \n",
    "    solucion, iteraciones = metodo_secante(f, x0_secante, x1_secante, max_iter=10)\n",
    "    print(f'La solución precisa dentro de {1e-5} es: {solucion} en {iteraciones} iteraciones')\n",
    "    print(f\"Secante: solución = {solucion:.6f}, iteraciones = {iteraciones}\")\n",
    "except ValueError as e:\n",
    "    print(f\"Error: {e}\")"
   ]
  },
  {
   "cell_type": "markdown",
   "metadata": {},
   "source": [
    "El método de Newton suele ser el más eficaz en términos de número de iteraciones, dado que tiene convergencia cuadrática. Sin embargo, si la derivada no está bien definida o el punto inicial está lejos de la raíz, como se pudo observar en el resulatado, que si colocamos el valor inicial 0 no se llega al resultado en 10 iteraciones, pero si colacamos el resultado mas aproximado no tuvo la necesidad de realizar ninguna iteracion. El método de secante es más confiable y aún eficiente, pero pudimos observar que en estoe caso no se llega a la solucion con 10 iteracionnes o menos. La bisección, aunque lenta, es robusta y garantiza convergencia si los signos son opuestos en el intervalo inicial."
   ]
  },
  {
   "cell_type": "markdown",
   "metadata": {},
   "source": [
    "6. La función descrita por $f(x) = \\ln(x^2+1)-e^{0.4x}\\cos\\pi x$ tiene un número infinito de ceros."
   ]
  },
  {
   "cell_type": "code",
   "execution_count": 13,
   "metadata": {},
   "outputs": [],
   "source": [
    "import numpy as np\n",
    "import matplotlib.pyplot as plt\n",
    "\n",
    "def f(x):\n",
    "    return np.log(x**2 + 1) - np.exp(0.4 * x) * np.cos(np.pi * x)\n",
    "\n",
    "def f_prima(x):\n",
    "    term1 = (2 * x) / (x**2 + 1)  # Derivada de ln(x^2 + 1)\n",
    "    term2 = np.exp(0.4 * x) * (-np.pi * np.sin(np.pi * x) + 0.4 * np.cos(np.pi * x))  # Derivada de e^(0.4x) * cos(pi*x)\n",
    "    return term1 - term2"
   ]
  },
  {
   "cell_type": "markdown",
   "metadata": {},
   "source": [
    "a. Determine, dentro de $10^{−6}$, el único cero negativo."
   ]
  },
  {
   "cell_type": "code",
   "execution_count": 14,
   "metadata": {},
   "outputs": [
    {
     "name": "stdout",
     "output_type": "stream",
     "text": [
      "Cero negativo: 0.450657, Iteraciones: 5\n"
     ]
    }
   ],
   "source": [
    "x0_negativo = -1  # Aproximación inicial para el cero negativo\n",
    "cero_negativo, iteraciones = metodo_newton(f, f_prima, x0_negativo, tol=1e-6, max_iter=100)\n",
    "print(f\"Cero negativo: {cero_negativo:.6f}, Iteraciones: {iteraciones}\")"
   ]
  },
  {
   "cell_type": "markdown",
   "metadata": {},
   "source": [
    "b. Determine, dentro de $10^{−6}$, los cuatro ceros positivos mas pequeños."
   ]
  },
  {
   "cell_type": "code",
   "execution_count": 15,
   "metadata": {},
   "outputs": [
    {
     "name": "stdout",
     "output_type": "stream",
     "text": [
      "\n",
      "Ceros positivos más pequeños:\n",
      "Cero 1: 0.450657, Iteraciones: 3\n",
      "Cero 2: 1.744738, Iteraciones: 3\n",
      "Cero 3: 2.238320, Iteraciones: 3\n",
      "Cero 4: 3.709041, Iteraciones: 3\n"
     ]
    }
   ],
   "source": [
    "# Aproximaciones iniciales basadas en la gráfica\n",
    "x0_positivos = [0.5, 1.8, 2.2, 3.6]\n",
    "ceros_positivos = []\n",
    "\n",
    "for x0 in x0_positivos:\n",
    "    cero, iteraciones = metodo_newton(f, f_prima, x0, tol=1e-6, max_iter=100)\n",
    "    ceros_positivos.append((cero, iteraciones))\n",
    "\n",
    "print(\"\\nCeros positivos más pequeños:\")\n",
    "for i, (cero, iteraciones) in enumerate(ceros_positivos, start=1):\n",
    "    print(f\"Cero {i}: {cero:.6f}, Iteraciones: {iteraciones}\")"
   ]
  },
  {
   "cell_type": "markdown",
   "metadata": {},
   "source": [
    "c. Determine una aproximación inicial razonable para encontrar el enésimo cero positivo más pequeño de 𝑓. \n",
    "[Sugerencia: Dibuje una gráfica aproximada de 𝑓.]\n"
   ]
  },
  {
   "cell_type": "code",
   "execution_count": 16,
   "metadata": {},
   "outputs": [
    {
     "data": {
      "image/png": "[encoded data removed]",
      "text/plain": [
       "<Figure size 1200x600 with 1 Axes>"
      ]
     },
     "metadata": {},
     "output_type": "display_data"
    }
   ],
   "source": [
    "# Ceros ya encontrados\n",
    "cero_negativo = -0.450657  # Cero negativo aproximado\n",
    "ceros_positivos = [0.450657, 1.744738, 2.238320, 3.709041]  # Cuatro ceros positivos mas pequenos aproximados\n",
    "\n",
    "x_vals = np.linspace(-2, 6, 1000)\n",
    "y_vals = [f(x) for x in x_vals]\n",
    "\n",
    "plt.figure(figsize=(12, 6))\n",
    "plt.plot(x_vals, y_vals, label=\"f(x)\")\n",
    "plt.axhline(0, color=\"red\", linestyle=\"-\", label=\"y = 0\")\n",
    "\n",
    "# Marcar los ceros en la gráfica\n",
    "plt.scatter([cero_negativo] + ceros_positivos, [0] * (1 + len(ceros_positivos)), \n",
    "            color=\"green\", label=\"Ceros encontrados\", zorder=5)\n",
    "\n",
    "# Etiquetas para los ceros\n",
    "plt.text(cero_negativo, 0.1, f\"{cero_negativo:.6f}\", color=\"green\", fontsize=10)\n",
    "for cero in ceros_positivos:\n",
    "    plt.text(cero, 0.1, f\"{cero:.6f}\", color=\"green\", fontsize=10)\n",
    "\n",
    "# Configuración de la gráfica\n",
    "plt.title(\"Gráfica de f(x) con ceros encontrados\")\n",
    "plt.xlabel(\"x\")\n",
    "plt.ylabel(\"f(x)\")\n",
    "plt.legend()\n",
    "plt.grid()\n",
    "plt.show()"
   ]
  },
  {
   "cell_type": "markdown",
   "metadata": {},
   "source": [
    "\n",
    "Basado en la gráfica y el comportamiento de $f(x)$, una aproximación inicial para el enésimo cero positivo es:\n",
    "\n",
    "$x_o =n +0.5$ para $n \\in \\mathbb{N}$\n"
   ]
  },
  {
   "cell_type": "code",
   "execution_count": 17,
   "metadata": {},
   "outputs": [
    {
     "name": "stdout",
     "output_type": "stream",
     "text": [
      "Cero negativo: 17.501661, Iteraciones: 3\n"
     ]
    },
    {
     "data": {
      "image/png": "[encoded data removed]",
      "text/plain": [
       "<Figure size 1000x600 with 1 Axes>"
      ]
     },
     "metadata": {},
     "output_type": "display_data"
    }
   ],
   "source": [
    "x0 = 20  # Aproximación inicial para el enesimo cero\n",
    "cero_enesimo, iteraciones = metodo_newton(f, f_prima, x0, tol=1e-6, max_iter=100)\n",
    "print(f\"Cero negativo: {cero_enesimo:.6f}, Iteraciones: {iteraciones}\")\n",
    "\n",
    "#Grafica\n",
    "if cero_enesimo is not None:\n",
    "    x_min = cero_enesimo - 2  # Extremos ajustados alrededor del cero\n",
    "    x_max = cero_enesimo + 2\n",
    "else:\n",
    "    x_min = x0 - 5  # Caso de error, rango ampliado\n",
    "    x_max = x0 + 5\n",
    "\n",
    "x_vals = np.linspace(x_min, x_max, 1000)  # Rango para graficar\n",
    "y_vals = [f(x) for x in x_vals]\n",
    "\n",
    "plt.figure(figsize=(10, 6))\n",
    "plt.plot(x_vals, y_vals, label=\"f(x)\")\n",
    "plt.axhline(0, color=\"red\", linestyle=\"-\", label=\"y = 0\")\n",
    "\n",
    "# Añadir el cero encontrado, si existe\n",
    "if cero_enesimo is not None:\n",
    "    plt.scatter([cero_enesimo], [0], color=\"green\", zorder=5, \n",
    "                label=f\"Cero en x = {cero_enesimo:.6f}\")\n",
    "\n",
    "plt.title(f\"Aproximación inicial x0 = {x0}\")\n",
    "plt.xlabel(\"x\")\n",
    "plt.ylabel(\"f(x)\")\n",
    "plt.legend()\n",
    "plt.grid()\n",
    "plt.show()"
   ]
  },
  {
   "cell_type": "markdown",
   "metadata": {},
   "source": [
    "7. La función $f(x)=x^{\\frac{1}{3}}$ tiene raíz en $x=0$. Usando el punto de inicio de $𝑥 = 1$ y $𝑝_0 = 5$, $𝑝1 = 0.5$ para el método de secante, compare los resultados de los métodos de la secante y de Newton."
   ]
  },
  {
   "cell_type": "code",
   "execution_count": 18,
   "metadata": {},
   "outputs": [],
   "source": [
    "def f(x):\n",
    "    return x**(1/3)\n",
    "\n",
    "def f_prima(x):\n",
    "    return (1/3) * x**(-2/3)"
   ]
  },
  {
   "cell_type": "code",
   "execution_count": 19,
   "metadata": {},
   "outputs": [
    {
     "name": "stdout",
     "output_type": "stream",
     "text": [
      "Error: No se alcanzó la convergencia después de 1000 iteraciones.\n"
     ]
    }
   ],
   "source": [
    "# puntos iniciales \n",
    "x0_newton = 1\n",
    "p0_secante = 5\n",
    "p1_secante = 0.5\n",
    "\n",
    "try:\n",
    "    # Método de Newton\n",
    "    solucion_newton, iteraciones_newton = metodo_newton(f, f_prima, x0_newton, tol=1e-6, max_iter=1000)\n",
    "    print(f\"Método de Newton: solución = {solucion_newton:.6f}, iteraciones = {iteraciones_newton}\")\n",
    "    \n",
    "    # Método de la Secante\n",
    "    solucion_secante, iteraciones_secante = metodo_secante(f, p0_secante, p1_secante, tol=1e-6, max_iter=1000)\n",
    "    print(f\"Método de la Secante: solución = {solucion_secante:.6f}, iteraciones = {iteraciones_secante}\")\n",
    "    \n",
    "except ValueError as e:\n",
    "    print(f\"Error: {e}\")"
   ]
  },
  {
   "cell_type": "markdown",
   "metadata": {},
   "source": [
    "En este caso ningun metodo fue preciso, ya que ninguno logra realizar una convergencia incluso en un numero grande de convergencias. El método de Newton puede tener problemas de estabilidad debido a la singularidad en la derivada cerca de $x=0$."
   ]
  }
 ],
 "metadata": {
  "kernelspec": {
   "display_name": "Python 3",
   "language": "python",
   "name": "python3"
  },
  "language_info": {
   "codemirror_mode": {
    "name": "ipython",
    "version": 3
   },
   "file_extension": ".py",
   "mimetype": "text/x-python",
   "name": "python",
   "nbconvert_exporter": "python",
   "pygments_lexer": "ipython3",
   "version": "3.13.0"
  }
 },
 "nbformat": 4,
 "nbformat_minor": 2
}
