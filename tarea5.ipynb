{
 "cells": [
  {
   "cell_type": "markdown",
   "metadata": {},
   "source": [
    "# Tarea 5 - Método de Newton y Método de la Secante  \n",
    "**Nombre:** Alexis Bautista  \n",
    "**Fecha de entrega:** 27 de noviembre de 2024  \n",
    "**Paralelo:** GR1CC  \n",
    "**Enlace de GitHub:** https://github.com/alexis-bautista/Tarea05-MN.git"
   ]
  },
  {
   "cell_type": "markdown",
   "metadata": {},
   "source": [
    "1. Sea $f(x) = −𝑥^3 − cos𝑥$ y $𝑝_0 = −1$. Use el método de Newton y de la Secante para encontrar $𝑝_2$. ¿Se podría \n",
    "usar $𝑝_0 = 0$?  \n",
    "Ejercicio adjunto en el pdf del repositorio"
   ]
  },
  {
   "cell_type": "markdown",
   "metadata": {},
   "source": [
    "2. Encuentre soluciones precisas dentro de 10−4 para los siguientes problemas.  \n",
    "a. $x^3-2x^2-5=0, [1,4]$  \n",
    "b. $x^3-3x^2-1=0, [-3,-1]$  \n",
    "c. $x-\\cos{x}=0, [0, \\pi/2]$  \n",
    "d. $x-0.8-0.2\\sin{x}=0, [0, \\pi/2]$\n",
    "Ejercicios adjuntos en el pdf del repositorio."
   ]
  },
  {
   "cell_type": "markdown",
   "metadata": {},
   "source": [
    "3. Use los 2 métodos en esta sección para encontrar las soluciones dentro de $10^{−5}$ para los siguientes problemas.  "
   ]
  },
  {
   "cell_type": "markdown",
   "metadata": {
    "vscode": {
     "languageId": "plaintext"
    }
   },
   "source": [
    "a. $3x-e^x=0$ para $1\\leq{x}\\leq{2}$"
   ]
  },
  {
   "cell_type": "markdown",
   "metadata": {
    "vscode": {
     "languageId": "plaintext"
    }
   },
   "source": [
    "Sabemos que:\n",
    "\n",
    "Formula de Newton: $x_{n+1}=x_n-\\frac{f(x_n)}{f'(x_n)}$  \n",
    "Formula de la Secante: $x_{n+1}=x_n​−f(x_n​)⋅\\frac{x_n-x_{n-1}}{f(x_n​)−f(x_{n−1}​)}$\n",
    "\n",
    "Funcion: $f(x)=3x-e^x$  \n",
    "Derivada: $f'=3-e^x$\n",
    "\n",
    "**Para el método de Newton**"
   ]
  },
  {
   "cell_type": "code",
   "execution_count": 30,
   "metadata": {},
   "outputs": [],
   "source": [
    "import math\n",
    "\n",
    "def f(x):\n",
    "    return 3*x - math.exp(x)\n",
    "\n",
    "def f_prima(x):\n",
    "    return 3 - math.exp(x)"
   ]
  },
  {
   "cell_type": "code",
   "execution_count": 31,
   "metadata": {},
   "outputs": [
    {
     "name": "stdout",
     "output_type": "stream",
     "text": [
      "La solución precisa dentro de 1e-05 es: 1.512134625427124 en 2 iteraciones\n"
     ]
    }
   ],
   "source": [
    "def metodo_newton(f, f_prime, x0, tol=1e-5, max_iter=100):\n",
    "    xn = x0\n",
    "    for n in range(max_iter):\n",
    "        fxn = f(xn)\n",
    "        if abs(fxn) < tol:\n",
    "            return xn, n\n",
    "        dfxn = f_prime(xn)\n",
    "        if dfxn == 0:\n",
    "            raise ValueError('Derivada es cero. No se puede dividir por cero por lo tanto no se puede aplicar el metodo de Newton')\n",
    "        xn = xn - fxn / dfxn\n",
    "    return None\n",
    "\n",
    "#tomamos como valor incial el punto medio del intervalo\n",
    "x0 = 1.5\n",
    "solucion, iteraciones = metodo_newton(f, f_prima, x0)\n",
    "print(f'La solución precisa dentro de {1e-5} es: {solucion} en {iteraciones} iteraciones')"
   ]
  },
  {
   "cell_type": "markdown",
   "metadata": {},
   "source": [
    "**Para el metodo de la secante**"
   ]
  },
  {
   "cell_type": "code",
   "execution_count": 28,
   "metadata": {},
   "outputs": [
    {
     "name": "stdout",
     "output_type": "stream",
     "text": [
      "La solución precisa dentro de 1e-05 es: 1.5121339760022816 en 8 iteraciones\n"
     ]
    }
   ],
   "source": [
    "def metodo_secante(f, x0, x1, tol=1e-5, max_iter=100):\n",
    "    for n in range(max_iter):\n",
    "        fx0 = f(x0)\n",
    "        fx1 = f(x1)\n",
    "        if abs(fx1) < tol:\n",
    "            return x1, n\n",
    "        if fx1 == fx0:\n",
    "            raise ValueError('f(x0) y f(x1) son iguales. No se puede dividir por cero por lo tanto no se puede aplicar el metodo de la secante')\n",
    "        x2 = x1 - fx1 * (x1 - x0) / (fx1 - fx0)\n",
    "        x0, x1 = x1, x2\n",
    "    return None\n",
    "\n",
    "# Valores iniciales, usamos los extremos del intervalo\n",
    "x0_secante = 1\n",
    "x1_secante = 2\n",
    "\n",
    "solucion, iteraciones = metodo_secante(f, x0_secante, x1_secante)\n",
    "print(f'La solución precisa dentro de {1e-5} es: {solucion} en {iteraciones} iteraciones')"
   ]
  },
  {
   "cell_type": "markdown",
   "metadata": {},
   "source": [
    "b. $2x+3\\cos{x}-e^x=0$ para $1\\leq{x}\\leq{2}$"
   ]
  },
  {
   "cell_type": "markdown",
   "metadata": {},
   "source": [
    "**Para el metodo de Newton**"
   ]
  },
  {
   "cell_type": "code",
   "execution_count": 34,
   "metadata": {},
   "outputs": [
    {
     "name": "stdout",
     "output_type": "stream",
     "text": [
      "La solución precisa dentro de 1e-05 es: 2.006014409413486 en 16 iteraciones\n"
     ]
    }
   ],
   "source": [
    "def f(x):\n",
    "    return 2*x + 3 - math.cos(x) - math.exp(x)\n",
    "\n",
    "def f_prima(x):\n",
    "    return 2 - 3*math.sin(x) - math.exp(x)\n",
    "\n",
    "#tomamos como valor incial el punto medio del intervalo\n",
    "x0 = 1.5\n",
    "solucion, iteraciones = metodo_newton(f, f_prima, x0)\n",
    "print(f'La solución precisa dentro de {1e-5} es: {solucion} en {iteraciones} iteraciones')"
   ]
  },
  {
   "cell_type": "markdown",
   "metadata": {},
   "source": [
    "**Para el metodo de la secante**"
   ]
  },
  {
   "cell_type": "code",
   "execution_count": 33,
   "metadata": {},
   "outputs": [
    {
     "name": "stdout",
     "output_type": "stream",
     "text": [
      "La solución precisa dentro de 1e-05 es: 2.0060153403917713 en 3 iteraciones\n"
     ]
    }
   ],
   "source": [
    "# Valores iniciales, usamos los extremos del intervalo\n",
    "x0_secante = 1\n",
    "x1_secante = 2\n",
    "\n",
    "solucion, iteraciones = metodo_secante(f, x0_secante, x1_secante)\n",
    "print(f'La solución precisa dentro de {1e-5} es: {solucion} en {iteraciones} iteraciones')"
   ]
  }
 ],
 "metadata": {
  "kernelspec": {
   "display_name": "Python 3",
   "language": "python",
   "name": "python3"
  },
  "language_info": {
   "codemirror_mode": {
    "name": "ipython",
    "version": 3
   },
   "file_extension": ".py",
   "mimetype": "text/x-python",
   "name": "python",
   "nbconvert_exporter": "python",
   "pygments_lexer": "ipython3",
   "version": "3.13.0"
  }
 },
 "nbformat": 4,
 "nbformat_minor": 2
}
